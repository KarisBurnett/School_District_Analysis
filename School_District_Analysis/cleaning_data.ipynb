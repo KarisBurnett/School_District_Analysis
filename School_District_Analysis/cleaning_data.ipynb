{
 "cells": [
  {
   "cell_type": "code",
   "execution_count": 1,
   "id": "93a7f676",
   "metadata": {},
   "outputs": [
    {
     "ename": "SyntaxError",
     "evalue": "invalid syntax (__config__.py, line 18)",
     "output_type": "error",
     "traceback": [
      "Traceback \u001b[1;36m(most recent call last)\u001b[0m:\n",
      "  File \u001b[0;32m\"C:\\Users\\Sherri's doTERRA.000\\.conda\\envs\\PythonData\\lib\\site-packages\\IPython\\core\\interactiveshell.py\"\u001b[0m, line \u001b[0;32m3437\u001b[0m, in \u001b[0;35mrun_code\u001b[0m\n    exec(code_obj, self.user_global_ns, self.user_ns)\n",
      "  File \u001b[0;32m\"<ipython-input-1-40b788c1c6e8>\"\u001b[0m, line \u001b[0;32m1\u001b[0m, in \u001b[0;35m<module>\u001b[0m\n    import pandas as pd\n",
      "  File \u001b[0;32m\"C:\\Users\\Sherri's doTERRA.000\\.conda\\envs\\PythonData\\lib\\site-packages\\pandas\\__init__.py\"\u001b[0m, line \u001b[0;32m11\u001b[0m, in \u001b[0;35m<module>\u001b[0m\n    __import__(dependency)\n",
      "\u001b[1;36m  File \u001b[1;32m\"C:\\Users\\Sherri's doTERRA.000\\.conda\\envs\\PythonData\\lib\\site-packages\\numpy\\__init__.py\"\u001b[1;36m, line \u001b[1;32m126\u001b[1;36m, in \u001b[1;35m<module>\u001b[1;36m\u001b[0m\n\u001b[1;33m    from numpy.__config__ import show as show_config\u001b[0m\n",
      "\u001b[1;36m  File \u001b[1;32m\"C:\\Users\\Sherri's doTERRA.000\\.conda\\envs\\PythonData\\lib\\site-packages\\numpy\\__config__.py\"\u001b[1;36m, line \u001b[1;32m18\u001b[0m\n\u001b[1;33m    blas_mkl_info={'libraries': ['mkl_rt'], 'library_dirs': ['C:/Users/Sherri's doTERRA.000/.conda/envs/PythonData\\\\Library\\\\lib'], 'define_macros': [('SCIPY_MKL_H', None), ('HAVE_CBLAS', None)], 'include_dirs': ['C:/Users/Sherri's doTERRA.000/.conda/envs/PythonData\\\\Library\\\\include']}\u001b[0m\n\u001b[1;37m                                                                              ^\u001b[0m\n\u001b[1;31mSyntaxError\u001b[0m\u001b[1;31m:\u001b[0m invalid syntax\n"
     ]
    }
   ],
   "source": [
    "import pandas as pd\n",
    "# Files to load\n",
    "file_to_load = \"Resources/missing_grades.csv\"\n",
    "\n",
    "# Read the CSV into a DataFrame\n",
    "missing_grade_df = pd.read_csv(file_to_load)\n",
    "missing_grade_df"
   ]
  },
  {
   "cell_type": "code",
   "execution_count": 2,
   "id": "8596501d",
   "metadata": {},
   "outputs": [
    {
     "ename": "NameError",
     "evalue": "name 'missing_grade_df' is not defined",
     "output_type": "error",
     "traceback": [
      "\u001b[1;31m---------------------------------------------------------------------------\u001b[0m",
      "\u001b[1;31mNameError\u001b[0m                                 Traceback (most recent call last)",
      "\u001b[1;32m<ipython-input-2-d376c978ecdf>\u001b[0m in \u001b[0;36m<module>\u001b[1;34m\u001b[0m\n\u001b[0;32m      1\u001b[0m \u001b[1;31m# Drop the NaNs.\u001b[0m\u001b[1;33m\u001b[0m\u001b[1;33m\u001b[0m\u001b[1;33m\u001b[0m\u001b[0m\n\u001b[1;32m----> 2\u001b[1;33m \u001b[0mmissing_grade_df\u001b[0m\u001b[1;33m.\u001b[0m\u001b[0mdropna\u001b[0m\u001b[1;33m(\u001b[0m\u001b[1;33m)\u001b[0m\u001b[1;33m\u001b[0m\u001b[1;33m\u001b[0m\u001b[0m\n\u001b[0m",
      "\u001b[1;31mNameError\u001b[0m: name 'missing_grade_df' is not defined"
     ]
    }
   ],
   "source": [
    "# Drop the NaNs.\n",
    "missing_grade_df.dropna(inplace=True)"
   ]
  },
  {
   "cell_type": "code",
   "execution_count": 3,
   "id": "a1d7eb13",
   "metadata": {},
   "outputs": [
    {
     "ename": "NameError",
     "evalue": "name 'missing_grade_df' is not defined",
     "output_type": "error",
     "traceback": [
      "\u001b[1;31m---------------------------------------------------------------------------\u001b[0m",
      "\u001b[1;31mNameError\u001b[0m                                 Traceback (most recent call last)",
      "\u001b[1;32m<ipython-input-3-56ba18d3936f>\u001b[0m in \u001b[0;36m<module>\u001b[1;34m\u001b[0m\n\u001b[0;32m      1\u001b[0m \u001b[1;31m# Fill in the empty rows with \"85\".\u001b[0m\u001b[1;33m\u001b[0m\u001b[1;33m\u001b[0m\u001b[1;33m\u001b[0m\u001b[0m\n\u001b[1;32m----> 2\u001b[1;33m \u001b[0mmissing_grade_df\u001b[0m\u001b[1;33m.\u001b[0m\u001b[0mfillna\u001b[0m\u001b[1;33m(\u001b[0m\u001b[1;36m85\u001b[0m\u001b[1;33m)\u001b[0m\u001b[1;33m\u001b[0m\u001b[1;33m\u001b[0m\u001b[0m\n\u001b[0m\u001b[0;32m      3\u001b[0m \u001b[1;31m# Determine data types for the school DataFrame.\u001b[0m\u001b[1;33m\u001b[0m\u001b[1;33m\u001b[0m\u001b[1;33m\u001b[0m\u001b[0m\n\u001b[0;32m      4\u001b[0m \u001b[0mschool_data_df\u001b[0m\u001b[1;33m.\u001b[0m\u001b[0mdtypes\u001b[0m\u001b[1;33m\u001b[0m\u001b[1;33m\u001b[0m\u001b[0m\n\u001b[0;32m      5\u001b[0m \u001b[1;31m# Determine data types for the student DataFrame.\u001b[0m\u001b[1;33m\u001b[0m\u001b[1;33m\u001b[0m\u001b[1;33m\u001b[0m\u001b[0m\n",
      "\u001b[1;31mNameError\u001b[0m: name 'missing_grade_df' is not defined"
     ]
    }
   ],
   "source": [
    "# Fill in the empty rows with \"85\".\n",
    "missing_grade_df.fillna(85)\n",
    "# Determine data types for the school DataFrame.\n",
    "school_data_df.dtypes\n",
    "# Determine data types for the student DataFrame.\n",
    "student_data_df.dtypes\n",
    "# Put the student names in a list.\n",
    "student_names = student_data_df[\"student_name\"].tolist()\n",
    "student_names"
   ]
  },
  {
   "cell_type": "code",
   "execution_count": 4,
   "id": "f5a23919",
   "metadata": {},
   "outputs": [
    {
     "ename": "NameError",
     "evalue": "name 'student_names' is not defined",
     "output_type": "error",
     "traceback": [
      "\u001b[1;31m---------------------------------------------------------------------------\u001b[0m",
      "\u001b[1;31mNameError\u001b[0m                                 Traceback (most recent call last)",
      "\u001b[1;32m<ipython-input-4-f0001781f778>\u001b[0m in \u001b[0;36m<module>\u001b[1;34m\u001b[0m\n\u001b[0;32m      1\u001b[0m \u001b[1;31m# Split the student name and determine the length of the split name.\u001b[0m\u001b[1;33m\u001b[0m\u001b[1;33m\u001b[0m\u001b[1;33m\u001b[0m\u001b[0m\n\u001b[1;32m----> 2\u001b[1;33m \u001b[1;32mfor\u001b[0m \u001b[0mname\u001b[0m \u001b[1;32min\u001b[0m \u001b[0mstudent_names\u001b[0m\u001b[1;33m:\u001b[0m\u001b[1;33m\u001b[0m\u001b[1;33m\u001b[0m\u001b[0m\n\u001b[0m\u001b[0;32m      3\u001b[0m     \u001b[0mprint\u001b[0m\u001b[1;33m(\u001b[0m\u001b[0mname\u001b[0m\u001b[1;33m.\u001b[0m\u001b[0msplit\u001b[0m\u001b[1;33m(\u001b[0m\u001b[1;33m)\u001b[0m\u001b[1;33m,\u001b[0m \u001b[0mlen\u001b[0m\u001b[1;33m(\u001b[0m\u001b[0mname\u001b[0m\u001b[1;33m.\u001b[0m\u001b[0msplit\u001b[0m\u001b[1;33m(\u001b[0m\u001b[1;33m)\u001b[0m\u001b[1;33m)\u001b[0m\u001b[1;33m)\u001b[0m\u001b[1;33m\u001b[0m\u001b[1;33m\u001b[0m\u001b[0m\n",
      "\u001b[1;31mNameError\u001b[0m: name 'student_names' is not defined"
     ]
    }
   ],
   "source": [
    "# Split the student name and determine the length of the split name.\n",
    "for name in student_names:\n",
    "    print(name.split(), len(name.split()))"
   ]
  },
  {
   "cell_type": "code",
   "execution_count": 5,
   "id": "9d62e623",
   "metadata": {},
   "outputs": [
    {
     "ename": "NameError",
     "evalue": "name 'student_names' is not defined",
     "output_type": "error",
     "traceback": [
      "\u001b[1;31m---------------------------------------------------------------------------\u001b[0m",
      "\u001b[1;31mNameError\u001b[0m                                 Traceback (most recent call last)",
      "\u001b[1;32m<ipython-input-5-529d45228b64>\u001b[0m in \u001b[0;36m<module>\u001b[1;34m\u001b[0m\n\u001b[0;32m      5\u001b[0m \u001b[1;31m# If the name is greater than or equal to \"3\", add the name to the list.\u001b[0m\u001b[1;33m\u001b[0m\u001b[1;33m\u001b[0m\u001b[1;33m\u001b[0m\u001b[0m\n\u001b[0;32m      6\u001b[0m \u001b[1;33m\u001b[0m\u001b[0m\n\u001b[1;32m----> 7\u001b[1;33m \u001b[1;32mfor\u001b[0m \u001b[0mname\u001b[0m \u001b[1;32min\u001b[0m \u001b[0mstudent_names\u001b[0m\u001b[1;33m:\u001b[0m\u001b[1;33m\u001b[0m\u001b[1;33m\u001b[0m\u001b[0m\n\u001b[0m\u001b[0;32m      8\u001b[0m     \u001b[1;32mif\u001b[0m \u001b[0mlen\u001b[0m\u001b[1;33m(\u001b[0m\u001b[0mname\u001b[0m\u001b[1;33m.\u001b[0m\u001b[0msplit\u001b[0m\u001b[1;33m(\u001b[0m\u001b[1;33m)\u001b[0m\u001b[1;33m)\u001b[0m \u001b[1;33m>=\u001b[0m \u001b[1;36m3\u001b[0m\u001b[1;33m:\u001b[0m\u001b[1;33m\u001b[0m\u001b[1;33m\u001b[0m\u001b[0m\n\u001b[0;32m      9\u001b[0m         \u001b[0mstudents_to_fix\u001b[0m\u001b[1;33m.\u001b[0m\u001b[0mappend\u001b[0m\u001b[1;33m(\u001b[0m\u001b[0mname\u001b[0m\u001b[1;33m)\u001b[0m\u001b[1;33m\u001b[0m\u001b[1;33m\u001b[0m\u001b[0m\n",
      "\u001b[1;31mNameError\u001b[0m: name 'student_names' is not defined"
     ]
    }
   ],
   "source": [
    "# Create a new list and use it for the for loop to iterate through the list.\n",
    "students_to_fix = []\n",
    "\n",
    "# Use an if statement to check the length of the name.\n",
    "# If the name is greater than or equal to \"3\", add the name to the list.\n",
    "\n",
    "for name in student_names:\n",
    "    if len(name.split()) >= 3:\n",
    "        students_to_fix.append(name)\n",
    "\n",
    "# Get the length of the students whose names are greater than or equal to \"3\".\n",
    "len(students_to_fix)\n",
    "# Add the prefixes less than or equal to 4 to a new list.\n",
    "prefixes = []\n",
    "for name in students_to_fix:\n",
    "    if len(name.split()[0]) <= 4:\n",
    "        prefixes.append(name.split()[0])\n",
    "\n",
    "print(prefixes)\n",
    "# Add the suffixes less than or equal to 3 to a new list.\n",
    "suffixes = []\n",
    "for name in students_to_fix:\n",
    "    if len(name.split()[-1]) <= 3:\n",
    "        suffixes.append(name.split()[-1])\n",
    "\n",
    "print(suffixes)\n",
    "# Get the unique items in the \"prefixes\" list.\n",
    "set(prefixes)\n",
    "# Get the unique items in the \"suffixes\" list.\n",
    "set(suffixes)"
   ]
  },
  {
   "cell_type": "code",
   "execution_count": 6,
   "id": "0c00ed47",
   "metadata": {},
   "outputs": [
    {
     "ename": "NameError",
     "evalue": "name 'prefixes_suffixes' is not defined",
     "output_type": "error",
     "traceback": [
      "\u001b[1;31m---------------------------------------------------------------------------\u001b[0m",
      "\u001b[1;31mNameError\u001b[0m                                 Traceback (most recent call last)",
      "\u001b[1;32m<ipython-input-6-df3266d42544>\u001b[0m in \u001b[0;36m<module>\u001b[1;34m\u001b[0m\n\u001b[0;32m      4\u001b[0m     \u001b[0mstudent_data_df\u001b[0m\u001b[1;33m[\u001b[0m\u001b[1;34m\"student_name\"\u001b[0m\u001b[1;33m]\u001b[0m\u001b[1;33m.\u001b[0m\u001b[0mstr\u001b[0m\u001b[1;33m.\u001b[0m\u001b[0mreplace\u001b[0m\u001b[1;33m(\u001b[0m\u001b[1;33m)\u001b[0m\u001b[1;33m\u001b[0m\u001b[1;33m\u001b[0m\u001b[0m\n\u001b[0;32m      5\u001b[0m     \u001b[1;31m# Iterate through the \"prefixes_suffixes\" list and replace them with an empty space, \"\" when it appears in the student's name.\u001b[0m\u001b[1;33m\u001b[0m\u001b[1;33m\u001b[0m\u001b[1;33m\u001b[0m\u001b[0m\n\u001b[1;32m----> 6\u001b[1;33m \u001b[1;32mfor\u001b[0m \u001b[0mword\u001b[0m \u001b[1;32min\u001b[0m \u001b[0mprefixes_suffixes\u001b[0m\u001b[1;33m:\u001b[0m\u001b[1;33m\u001b[0m\u001b[1;33m\u001b[0m\u001b[0m\n\u001b[0m\u001b[0;32m      7\u001b[0m     \u001b[0mstudent_data_df\u001b[0m\u001b[1;33m[\u001b[0m\u001b[1;34m\"student_name\"\u001b[0m\u001b[1;33m]\u001b[0m \u001b[1;33m=\u001b[0m \u001b[0mstudent_data_df\u001b[0m\u001b[1;33m[\u001b[0m\u001b[1;34m\"student_name\"\u001b[0m\u001b[1;33m]\u001b[0m\u001b[1;33m.\u001b[0m\u001b[0mstr\u001b[0m\u001b[1;33m.\u001b[0m\u001b[0mreplace\u001b[0m\u001b[1;33m(\u001b[0m\u001b[0mword\u001b[0m\u001b[1;33m,\u001b[0m\u001b[1;34m\"\"\u001b[0m\u001b[1;33m)\u001b[0m\u001b[1;33m\u001b[0m\u001b[1;33m\u001b[0m\u001b[0m\n\u001b[0;32m      8\u001b[0m     \u001b[1;31m# Put the cleaned students' names in another list.\u001b[0m\u001b[1;33m\u001b[0m\u001b[1;33m\u001b[0m\u001b[1;33m\u001b[0m\u001b[0m\n",
      "\u001b[1;31mNameError\u001b[0m: name 'prefixes_suffixes' is not defined"
     ]
    }
   ],
   "source": [
    "# Strip \"Mrs.\" from the student names\n",
    "for name in students_to_fix:\n",
    "    print(name.strip(\"Mrs.\"))\n",
    "    student_data_df[\"student_name\"].str.replace()\n",
    "    # Iterate through the \"prefixes_suffixes\" list and replace them with an empty space, \"\" when it appears in the student's name.\n",
    "for word in prefixes_suffixes:\n",
    "    student_data_df[\"student_name\"] = student_data_df[\"student_name\"].str.replace(word,\"\")\n",
    "    # Put the cleaned students' names in another list.\n",
    "student_names = student_data_df[\"student_name\"].tolist()\n",
    "student_names\n",
    "# Create a new list and use it for the for loop to iterate through the list.\n",
    "students_fixed = []\n",
    "\n",
    "# Use an if statement to check the length of the name.\n",
    "\n",
    "# If the name is greater than or equal to 3, add the name to the list.\n",
    "\n",
    "for name in student_names:\n",
    "    if len(name.split()) >= 3:\n",
    "        students_fixed.append(name)\n",
    "\n",
    "# Get the length of the students' names that are greater than or equal to 3.\n",
    "len(students_fixed)\n",
    "# Create a new list and use it for the for loop to iterate through the list.\n",
    "students_fixed = []\n",
    "\n",
    "# Use an if statement to check the length of the name.\n",
    "\n",
    "# If the name is greater than or equal to 3, add the name to the list.\n",
    "\n",
    "for name in student_names:\n",
    "    if len(name.split()) >= 3:\n",
    "        students_fixed.append(name)\n",
    "\n",
    "# Get the length of the students' names that are greater than or equal to 3.\n",
    "len(students_fixed)"
   ]
  },
  {
   "cell_type": "code",
   "execution_count": 1,
   "id": "ab6b3722",
   "metadata": {},
   "outputs": [
    {
     "ename": "SyntaxError",
     "evalue": "invalid syntax (__config__.py, line 18)",
     "output_type": "error",
     "traceback": [
      "Traceback \u001b[1;36m(most recent call last)\u001b[0m:\n",
      "  File \u001b[0;32m\"C:\\Users\\Sherri's doTERRA.000\\.conda\\envs\\PythonData\\lib\\site-packages\\IPython\\core\\interactiveshell.py\"\u001b[0m, line \u001b[0;32m3437\u001b[0m, in \u001b[0;35mrun_code\u001b[0m\n    exec(code_obj, self.user_global_ns, self.user_ns)\n",
      "  File \u001b[0;32m\"<ipython-input-1-5687ef5e02a3>\"\u001b[0m, line \u001b[0;32m1\u001b[0m, in \u001b[0;35m<module>\u001b[0m\n    import pandas as pd\n",
      "  File \u001b[0;32m\"C:\\Users\\Sherri's doTERRA.000\\.conda\\envs\\PythonData\\lib\\site-packages\\pandas\\__init__.py\"\u001b[0m, line \u001b[0;32m11\u001b[0m, in \u001b[0;35m<module>\u001b[0m\n    __import__(dependency)\n",
      "\u001b[1;36m  File \u001b[1;32m\"C:\\Users\\Sherri's doTERRA.000\\.conda\\envs\\PythonData\\lib\\site-packages\\numpy\\__init__.py\"\u001b[1;36m, line \u001b[1;32m126\u001b[1;36m, in \u001b[1;35m<module>\u001b[1;36m\u001b[0m\n\u001b[1;33m    from numpy.__config__ import show as show_config\u001b[0m\n",
      "\u001b[1;36m  File \u001b[1;32m\"C:\\Users\\Sherri's doTERRA.000\\.conda\\envs\\PythonData\\lib\\site-packages\\numpy\\__config__.py\"\u001b[1;36m, line \u001b[1;32m18\u001b[0m\n\u001b[1;33m    blas_mkl_info={'libraries': ['mkl_rt'], 'library_dirs': ['C:/Users/Sherri's doTERRA.000/.conda/envs/PythonData\\\\Library\\\\lib'], 'define_macros': [('SCIPY_MKL_H', None), ('HAVE_CBLAS', None)], 'include_dirs': ['C:/Users/Sherri's doTERRA.000/.conda/envs/PythonData\\\\Library\\\\include']}\u001b[0m\n\u001b[1;37m                                                                              ^\u001b[0m\n\u001b[1;31mSyntaxError\u001b[0m\u001b[1;31m:\u001b[0m invalid syntax\n"
     ]
    }
   ],
   "source": [
    "import pandas as pd\n",
    "# Combine the data into a single dataset.\n",
    "school_data_complete_df = pd.merge(student_data_df, school_data_df, on=[\"school_name\", \"school_name\"])\n",
    "school_data_complete_df.head()\n"
   ]
  },
  {
   "cell_type": "code",
   "execution_count": 4,
   "id": "023584db",
   "metadata": {},
   "outputs": [
    {
     "ename": "SyntaxError",
     "evalue": "invalid syntax (__config__.py, line 18)",
     "output_type": "error",
     "traceback": [
      "Traceback \u001b[1;36m(most recent call last)\u001b[0m:\n",
      "  File \u001b[0;32m\"C:\\Users\\Sherri's doTERRA.000\\.conda\\envs\\PythonData\\lib\\site-packages\\IPython\\core\\interactiveshell.py\"\u001b[0m, line \u001b[0;32m3437\u001b[0m, in \u001b[0;35mrun_code\u001b[0m\n    exec(code_obj, self.user_global_ns, self.user_ns)\n",
      "  File \u001b[0;32m\"<ipython-input-4-8432706c6718>\"\u001b[0m, line \u001b[0;32m1\u001b[0m, in \u001b[0;35m<module>\u001b[0m\n    import numpy as np\n",
      "\u001b[1;36m  File \u001b[1;32m\"C:\\Users\\Sherri's doTERRA.000\\.conda\\envs\\PythonData\\lib\\site-packages\\numpy\\__init__.py\"\u001b[1;36m, line \u001b[1;32m126\u001b[1;36m, in \u001b[1;35m<module>\u001b[1;36m\u001b[0m\n\u001b[1;33m    from numpy.__config__ import show as show_config\u001b[0m\n",
      "\u001b[1;36m  File \u001b[1;32m\"C:\\Users\\Sherri's doTERRA.000\\.conda\\envs\\PythonData\\lib\\site-packages\\numpy\\__config__.py\"\u001b[1;36m, line \u001b[1;32m18\u001b[0m\n\u001b[1;33m    blas_mkl_info={'libraries': ['mkl_rt'], 'library_dirs': ['C:/Users/Sherri's doTERRA.000/.conda/envs/PythonData\\\\Library\\\\lib'], 'define_macros': [('SCIPY_MKL_H', None), ('HAVE_CBLAS', None)], 'include_dirs': ['C:/Users/Sherri's doTERRA.000/.conda/envs/PythonData\\\\Library\\\\include']}\u001b[0m\n\u001b[1;37m                                                                              ^\u001b[0m\n\u001b[1;31mSyntaxError\u001b[0m\u001b[1;31m:\u001b[0m invalid syntax\n"
     ]
    }
   ],
   "source": [
    "import numpy as np\n",
    "import pandas as pd\n",
    "school_data_complete_df = pd.merge(student_data_df, school_data_df, on=[\"school_name\", \"school_name\"])\n",
    "school_data_complete_df.head()\n",
    "school_data_complete_df[\"Student ID\"].count()"
   ]
  },
  {
   "cell_type": "code",
   "execution_count": 9,
   "id": "491929ac",
   "metadata": {},
   "outputs": [
    {
     "ename": "NameError",
     "evalue": "name 'school_data_df' is not defined",
     "output_type": "error",
     "traceback": [
      "\u001b[1;31m---------------------------------------------------------------------------\u001b[0m",
      "\u001b[1;31mNameError\u001b[0m                                 Traceback (most recent call last)",
      "\u001b[1;32m<ipython-input-9-2ccc0ffac3fa>\u001b[0m in \u001b[0;36m<module>\u001b[1;34m\u001b[0m\n\u001b[0;32m      1\u001b[0m \u001b[1;31m# Calculate the total budget.\u001b[0m\u001b[1;33m\u001b[0m\u001b[1;33m\u001b[0m\u001b[1;33m\u001b[0m\u001b[0m\n\u001b[1;32m----> 2\u001b[1;33m \u001b[0mtotal_budget\u001b[0m \u001b[1;33m=\u001b[0m \u001b[0mschool_data_df\u001b[0m\u001b[1;33m[\u001b[0m\u001b[1;34m\"budget\"\u001b[0m\u001b[1;33m]\u001b[0m\u001b[1;33m.\u001b[0m\u001b[0msum\u001b[0m\u001b[1;33m(\u001b[0m\u001b[1;33m)\u001b[0m\u001b[1;33m\u001b[0m\u001b[1;33m\u001b[0m\u001b[0m\n\u001b[0m\u001b[0;32m      3\u001b[0m \u001b[0mtotal_budget\u001b[0m\u001b[1;33m\u001b[0m\u001b[1;33m\u001b[0m\u001b[0m\n",
      "\u001b[1;31mNameError\u001b[0m: name 'school_data_df' is not defined"
     ]
    }
   ],
   "source": [
    "# Calculate the total budget.\n",
    "total_budget = school_data_df[\"budget\"].sum()\n",
    "total_budget"
   ]
  },
  {
   "cell_type": "code",
   "execution_count": 10,
   "id": "38f9abdd",
   "metadata": {},
   "outputs": [
    {
     "ename": "NameError",
     "evalue": "name 'passing_math_count' is not defined",
     "output_type": "error",
     "traceback": [
      "\u001b[1;31m---------------------------------------------------------------------------\u001b[0m",
      "\u001b[1;31mNameError\u001b[0m                                 Traceback (most recent call last)",
      "\u001b[1;32m<ipython-input-10-8c0e8569708e>\u001b[0m in \u001b[0;36m<module>\u001b[1;34m\u001b[0m\n\u001b[0;32m      1\u001b[0m \u001b[1;31m# Calculate the percent that passed math.\u001b[0m\u001b[1;33m\u001b[0m\u001b[1;33m\u001b[0m\u001b[1;33m\u001b[0m\u001b[0m\n\u001b[1;32m----> 2\u001b[1;33m \u001b[0mpassing_math_percentage\u001b[0m \u001b[1;33m=\u001b[0m \u001b[0mpassing_math_count\u001b[0m \u001b[1;33m/\u001b[0m \u001b[0mfloat\u001b[0m\u001b[1;33m(\u001b[0m\u001b[0mstudent_count\u001b[0m\u001b[1;33m)\u001b[0m \u001b[1;33m*\u001b[0m \u001b[1;36m100\u001b[0m\u001b[1;33m\u001b[0m\u001b[1;33m\u001b[0m\u001b[0m\n\u001b[0m\u001b[0;32m      3\u001b[0m \u001b[1;33m\u001b[0m\u001b[0m\n\u001b[0;32m      4\u001b[0m \u001b[1;31m# Calculate the percent that passed reading.\u001b[0m\u001b[1;33m\u001b[0m\u001b[1;33m\u001b[0m\u001b[1;33m\u001b[0m\u001b[0m\n\u001b[0;32m      5\u001b[0m \u001b[0mpassing_reading_percentage\u001b[0m \u001b[1;33m=\u001b[0m \u001b[0mpassing_reading_count\u001b[0m \u001b[1;33m/\u001b[0m \u001b[0mfloat\u001b[0m\u001b[1;33m(\u001b[0m\u001b[0mstudent_count\u001b[0m\u001b[1;33m)\u001b[0m \u001b[1;33m*\u001b[0m \u001b[1;36m100\u001b[0m\u001b[1;33m\u001b[0m\u001b[1;33m\u001b[0m\u001b[0m\n",
      "\u001b[1;31mNameError\u001b[0m: name 'passing_math_count' is not defined"
     ]
    }
   ],
   "source": [
    "# Calculate the percent that passed math.\n",
    "passing_math_percentage = passing_math_count / float(student_count) * 100\n",
    "\n",
    "# Calculate the percent that passed reading.\n",
    "passing_reading_percentage = passing_reading_count / float(student_count) * 100"
   ]
  },
  {
   "cell_type": "code",
   "execution_count": null,
   "id": "d8c9e42e",
   "metadata": {},
   "outputs": [],
   "source": []
  }
 ],
 "metadata": {
  "kernelspec": {
   "display_name": "PythonData",
   "language": "python",
   "name": "pythondata"
  },
  "language_info": {
   "codemirror_mode": {
    "name": "ipython",
    "version": 3
   },
   "file_extension": ".py",
   "mimetype": "text/x-python",
   "name": "python",
   "nbconvert_exporter": "python",
   "pygments_lexer": "ipython3",
   "version": "3.7.10"
  }
 },
 "nbformat": 4,
 "nbformat_minor": 5
}
